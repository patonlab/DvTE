{
 "cells": [
  {
   "cell_type": "markdown",
   "metadata": {},
   "source": [
    "# Dynamic Vertical Triplet Energy Generation (DvTEGen)"
   ]
  },
  {
   "cell_type": "markdown",
   "metadata": {},
   "source": [
    "## Import Dependencies"
   ]
  },
  {
   "cell_type": "code",
   "execution_count": 1,
   "metadata": {},
   "outputs": [],
   "source": [
    "from pathlib import Path\n",
    "from aqme.qprep import qprep\n",
    "import os\n",
    "import shutil"
   ]
  },
  {
   "cell_type": "markdown",
   "metadata": {},
   "source": [
    "## Define Parameters for QM input file generation"
   ]
  },
  {
   "cell_type": "code",
   "execution_count": 2,
   "metadata": {},
   "outputs": [],
   "source": [
    "#Step Number for Coordinate Extraction\n",
    "\n",
    "step_size = 8 #Step size for trajectory sampling (Default = 8)\n",
    "\n",
    "i_step = 1 #First Step in the sampled trajectories (Default = 1)\n",
    "\n",
    "f_step = 500 #Final Step in the sampled trajectories (Default = 500)\n",
    "\n",
    "#QM inputs\n",
    "\n",
    "qm_input='m062x/6-31G* scf=xqc' #Level of theory for vertical Triplet Enegy calculations\n",
    "\n",
    "program='gaussian' #Program used for QM calculations (Options: gaussian and orca)\n",
    "\n",
    "mem='64GB' #Memory used (See AQME specifications)\n",
    "\n",
    "nprocs=32 #Number of processors (See AQME specifications)"
   ]
  },
  {
   "cell_type": "markdown",
   "metadata": {},
   "source": [
    "# Generation of QM input files\n",
    "\n",
    "Note: The code assume that .xyz trajectory files are in the working directory.\n",
    "      Refer to the code comments how to specify other workign folders"
   ]
  },
  {
   "cell_type": "code",
   "execution_count": null,
   "metadata": {},
   "outputs": [],
   "source": [
    "#Print trajectory paraments\n",
    "print('Selected Parameters:')\n",
    "print()\n",
    "print('step_size = ' + str(step_size))\n",
    "print('i_step = ' + str(i_step))\n",
    "print('f_step = ' + str(f_step))\n",
    "\n",
    "#Print level of theory settings\n",
    "print('Level of Theory = ' + str(qm_input))\n",
    "print('Program = ' + str(program))\n",
    "print('Memory = ' + str(mem))\n",
    "print('Number of Processors = ' + str(nprocs))\n",
    "print()\n",
    "\n",
    "#Load .XYZ trajectories in current folder\n",
    "xyz_files = [str(filepath) for filepath in Path().glob('*.xyz')]   #Specify within Path() the desired working directory\n",
    "                                                                   #Change extension to .trj if using JProgDyn outputs\n",
    "\n",
    "#Remove files that may have already been parsed in previus runs\n",
    "xyz_files = [item for item in xyz_files if not item.startswith(\"parsed\")]\n",
    "\n",
    "print('Loaded Filed:')\n",
    "print()\n",
    "[print(file) for file in xyz_files]\n",
    "\n",
    "#Extract Number of Atoms in trajectories\n",
    "try:\n",
    "    with open(xyz_files[0], 'r') as file:\n",
    "        atom_no = int(file.readline())\n",
    "        print()\n",
    "        print(\"Total number of atoms in trajectory:\", atom_no)\n",
    "        print()\n",
    "        print(\"Note: It is assumed that the trajectories have the same number of atoms!\")\n",
    "\n",
    "except FileNotFoundError:\n",
    "    print(\"File not found.\")\n",
    "except Exception as e:\n",
    "    print(\"An error occurred:\", str(e))\n",
    "    \n",
    "#Extract coordinates based on the desired specifications:\n",
    "def extract_coordinates(file_name, file_out):\n",
    "    try:\n",
    "        with open(file_name, 'r') as file:\n",
    "            with open(file_out, 'w') as fileout:\n",
    "                for x in range (i_step, f_step, step_size):\n",
    "                    search_string = 'Step ' + str(x)\n",
    "                    found = False\n",
    "                    for line in file:\n",
    "                        if search_string in line:\n",
    "                            found = True\n",
    "                            fileout.write(str(atom_no))\n",
    "                            fileout.write(str('\\n'))\n",
    "                            fileout.write(line.rstrip())\n",
    "                            fileout.write(str('\\n'))\n",
    "                            break\n",
    "\n",
    "                    if found:\n",
    "                        lines_to_print = atom_no\n",
    "                        for _ in range(lines_to_print):\n",
    "                            line = next(file, None)\n",
    "                            if line:\n",
    "                                fileout.write(line.rstrip())\n",
    "                                fileout.write(str('\\n'))\n",
    "                            else:\n",
    "                                break\n",
    "                    else:\n",
    "                        print(\"String not found.\")\n",
    "    except FileNotFoundError:\n",
    "        print(\"File not found.\")\n",
    "        \n",
    "#Apply coordinate extractors to files in folder\n",
    "print()\n",
    "print(\"Parsed Trajectories Generated:\")\n",
    "print()\n",
    "xyz_parsed = []\n",
    "for i in xyz_files:\n",
    "    file_out = 'parsed-' + i\n",
    "    extract_coordinates(i, file_out)\n",
    "    print(file_out)\n",
    "    xyz_parsed.append(file_out)\n",
    "    \n",
    "#Execution of Input Files Generator\n",
    "\n",
    "print()\n",
    "print('Initiating AQME QPREP for S0 States:')\n",
    "print()\n",
    "\n",
    "qprep(files=xyz_parsed, qm_input=qm_input, suffix='S0', mult=1, program=program, mem=mem, nprocs=nprocs)\n",
    "\n",
    "print()\n",
    "print('Initiating AQME QPREP for T1 States:')\n",
    "print()\n",
    "\n",
    "qprep(files=xyz_parsed, qm_input=qm_input, suffix='T1', mult=3, program=program, mem=mem, nprocs=nprocs)\n",
    "\n",
    "#Due to how AQME names files, they will be renamed to resemble the entry in the original trajectory file\n",
    "\n",
    "directory = 'QCALC'  # Replace with the directory path containing the files\n",
    "\n",
    "# Rename the generated .com files\n",
    "for filename in os.listdir(directory):\n",
    "    if filename.endswith('.com'):\n",
    "        parts = filename.split('_')\n",
    "\n",
    "        # Extract informations\n",
    "        molecule = parts[0]\n",
    "        trajectory = parts[1]\n",
    "        frame = int(parts[3])\n",
    "        state = parts[4]\n",
    "\n",
    "        # Calculate the frame step\n",
    "        new_frame = ((frame - i_step) * step_size) + i_step\n",
    "\n",
    "        # New name of the file\n",
    "        new_filename = f\"{molecule}_{trajectory}_frame_{new_frame}_{state}\"\n",
    "\n",
    "        # Rename the file\n",
    "        old_path = os.path.join(directory, filename)\n",
    "        new_path = os.path.join(directory, new_filename)\n",
    "        os.rename(old_path, new_path)\n",
    "        \n",
    "print('Files have been generated Succesfully!')\n",
    "print()\n",
    "print('There are a total of ' + str(len(os.listdir(directory))) + ' Files. Good Luck!')"
   ]
  },
  {
   "cell_type": "markdown",
   "metadata": {},
   "source": [
    "## (optional) batch files based on initial dynamics trajectory\n",
    "\n",
    "When using HPC resources it may be easier to batch files for submission for efficient resource usage. If trajectories are generated using MILO, this cell will compile them in individiual folder named after the trajectory random seed"
   ]
  },
  {
   "cell_type": "code",
   "execution_count": null,
   "metadata": {},
   "outputs": [],
   "source": [
    "# Define the source directory where the files are located\n",
    "source_directory = 'QCALC'     #AQME stores all generated files in a folder called \"QCALC\"\n",
    "                               #Change here if you have modified the default setting of AQME\n",
    "\n",
    "# Define the destination directory where the files will be moved\n",
    "destination_directory = 'QCALC/Batched/'   #Change here if you desire the files to be moved\n",
    "                                           #in a different folder\n",
    "\n",
    "# Iterate over the files in the given source directory\n",
    "for filename in os.listdir(source_directory):\n",
    "    # Extract the random seed of MILO trajectory\n",
    "    rseed = filename.split('_')[-4]  # If the file naming convetions contains more underscores than orginally define\n",
    "                                     # the number may have to be changed\n",
    "        \n",
    "    # Create the destination folder based on the MILO trjectory random seed\n",
    "    destination_folder = os.path.join(destination_directory, rseed)\n",
    "    os.makedirs(destination_folder, exist_ok=True)\n",
    "        \n",
    "    # Move the file to the destination folder\n",
    "    source_file = os.path.join(source_directory, filename)\n",
    "    destination_file = os.path.join(destination_folder, filename)\n",
    "    shutil.move(source_file, destination_file)\n",
    "    \n",
    "print('Batching based on trajecotory completed')"
   ]
  },
  {
   "cell_type": "code",
   "execution_count": null,
   "metadata": {},
   "outputs": [],
   "source": []
  }
 ],
 "metadata": {
  "kernelspec": {
   "display_name": "Python 3 (ipykernel)",
   "language": "python",
   "name": "python3"
  },
  "language_info": {
   "codemirror_mode": {
    "name": "ipython",
    "version": 3
   },
   "file_extension": ".py",
   "mimetype": "text/x-python",
   "name": "python",
   "nbconvert_exporter": "python",
   "pygments_lexer": "ipython3",
   "version": "3.7.0"
  },
  "vscode": {
   "interpreter": {
    "hash": "6fd74c72106078714e0fce224080d73d80ec6931ebd33b284a64c665ffc716e5"
   }
  }
 },
 "nbformat": 4,
 "nbformat_minor": 2
}
